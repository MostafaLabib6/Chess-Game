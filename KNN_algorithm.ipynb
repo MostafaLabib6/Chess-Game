{
  "nbformat": 4,
  "nbformat_minor": 0,
  "metadata": {
    "colab": {
      "name": "Copy of KNN_Template.ipynb",
      "provenance": [],
      "collapsed_sections": [],
      "include_colab_link": true
    },
    "kernelspec": {
      "name": "python3",
      "display_name": "Python 3"
    }
  },
  "cells": [
    {
      "cell_type": "markdown",
      "metadata": {
        "id": "view-in-github",
        "colab_type": "text"
      },
      "source": [
        "<a href=\"https://colab.research.google.com/github/MostafaLabib6/Chess-Game/blob/main/KNN_algorithm.ipynb\" target=\"_parent\"><img src=\"https://colab.research.google.com/assets/colab-badge.svg\" alt=\"Open In Colab\"/></a>"
      ]
    },
    {
      "cell_type": "markdown",
      "source": [
        "<center><h1><b>K-Nearest Neighbours</b></h1></center>\n",
        "<p>Welcome To Your First Task, today You'll be implementing your first ML algorithm</p>\n",
        "<p>You'll build a KNN classifier from scratch to classify...you guessed it!</p>\n",
        "<h3><i> Kozbara and Ba2dones</i> </h3>\n"
      ],
      "metadata": {
        "id": "1FP_Mmkrb1NP"
      }
    },
    {
      "cell_type": "markdown",
      "metadata": {
        "id": "pU4gvx0ht_Sg"
      },
      "source": [
        "\n",
        "\n",
        "---\n",
        "\n"
      ]
    },
    {
      "cell_type": "markdown",
      "metadata": {
        "id": "xsful_bonkBj"
      },
      "source": [
        "#Import and Data read\n",
        "Before Starting your implementation, we need to load our libraries and data first, <br>\n",
        "we also display some graphs to get more insights on the data, you'll learn how to do that yourself in the upcoming sessions ;)"
      ]
    },
    {
      "cell_type": "code",
      "metadata": {
        "id": "QQ-y_T5PmtWs"
      },
      "source": [
        "import numpy as np # for numerical operations\n",
        "import pandas as pd # for handling input data\n",
        "import matplotlib.pyplot as plt # for data visualization \n",
        "import seaborn as sns # for data visualization \n",
        "import timeit\n",
        "plt.style.use('seaborn-darkgrid')"
      ],
      "execution_count": 256,
      "outputs": []
    },
    {
      "cell_type": "code",
      "metadata": {
        "id": "BHxWBJc2uJUn"
      },
      "source": [
        "data = pd.read_csv('train.csv') # uses pandas library to open a .csv file\n",
        "test = pd.read_csv('test.csv')"
      ],
      "execution_count": 257,
      "outputs": []
    },
    {
      "cell_type": "code",
      "metadata": {
        "id": "Y4wWGnhPuyHX",
        "colab": {
          "base_uri": "https://localhost:8080/",
          "height": 206
        },
        "outputId": "0db54465-7e78-44ae-c3e3-4b4e83c92ef2"
      },
      "source": [
        "data.head() # displays the first 5 rows of data"
      ],
      "execution_count": 258,
      "outputs": [
        {
          "output_type": "execute_result",
          "data": {
            "text/html": [
              "\n",
              "  <div id=\"df-0e1f56ec-e194-472e-b69f-0ff3b25acc3f\">\n",
              "    <div class=\"colab-df-container\">\n",
              "      <div>\n",
              "<style scoped>\n",
              "    .dataframe tbody tr th:only-of-type {\n",
              "        vertical-align: middle;\n",
              "    }\n",
              "\n",
              "    .dataframe tbody tr th {\n",
              "        vertical-align: top;\n",
              "    }\n",
              "\n",
              "    .dataframe thead th {\n",
              "        text-align: right;\n",
              "    }\n",
              "</style>\n",
              "<table border=\"1\" class=\"dataframe\">\n",
              "  <thead>\n",
              "    <tr style=\"text-align: right;\">\n",
              "      <th></th>\n",
              "      <th>Plant Size</th>\n",
              "      <th>Plant Color</th>\n",
              "      <th>Leaf Thickness</th>\n",
              "      <th>label</th>\n",
              "      <th>label_text</th>\n",
              "    </tr>\n",
              "  </thead>\n",
              "  <tbody>\n",
              "    <tr>\n",
              "      <th>0</th>\n",
              "      <td>22</td>\n",
              "      <td>70</td>\n",
              "      <td>65</td>\n",
              "      <td>1</td>\n",
              "      <td>Kozbara</td>\n",
              "    </tr>\n",
              "    <tr>\n",
              "      <th>1</th>\n",
              "      <td>34</td>\n",
              "      <td>61</td>\n",
              "      <td>71</td>\n",
              "      <td>1</td>\n",
              "      <td>Kozbara</td>\n",
              "    </tr>\n",
              "    <tr>\n",
              "      <th>2</th>\n",
              "      <td>48</td>\n",
              "      <td>41</td>\n",
              "      <td>65</td>\n",
              "      <td>1</td>\n",
              "      <td>Kozbara</td>\n",
              "    </tr>\n",
              "    <tr>\n",
              "      <th>3</th>\n",
              "      <td>73</td>\n",
              "      <td>69</td>\n",
              "      <td>6</td>\n",
              "      <td>0</td>\n",
              "      <td>Ba2dones</td>\n",
              "    </tr>\n",
              "    <tr>\n",
              "      <th>4</th>\n",
              "      <td>14</td>\n",
              "      <td>16</td>\n",
              "      <td>62</td>\n",
              "      <td>1</td>\n",
              "      <td>Kozbara</td>\n",
              "    </tr>\n",
              "  </tbody>\n",
              "</table>\n",
              "</div>\n",
              "      <button class=\"colab-df-convert\" onclick=\"convertToInteractive('df-0e1f56ec-e194-472e-b69f-0ff3b25acc3f')\"\n",
              "              title=\"Convert this dataframe to an interactive table.\"\n",
              "              style=\"display:none;\">\n",
              "        \n",
              "  <svg xmlns=\"http://www.w3.org/2000/svg\" height=\"24px\"viewBox=\"0 0 24 24\"\n",
              "       width=\"24px\">\n",
              "    <path d=\"M0 0h24v24H0V0z\" fill=\"none\"/>\n",
              "    <path d=\"M18.56 5.44l.94 2.06.94-2.06 2.06-.94-2.06-.94-.94-2.06-.94 2.06-2.06.94zm-11 1L8.5 8.5l.94-2.06 2.06-.94-2.06-.94L8.5 2.5l-.94 2.06-2.06.94zm10 10l.94 2.06.94-2.06 2.06-.94-2.06-.94-.94-2.06-.94 2.06-2.06.94z\"/><path d=\"M17.41 7.96l-1.37-1.37c-.4-.4-.92-.59-1.43-.59-.52 0-1.04.2-1.43.59L10.3 9.45l-7.72 7.72c-.78.78-.78 2.05 0 2.83L4 21.41c.39.39.9.59 1.41.59.51 0 1.02-.2 1.41-.59l7.78-7.78 2.81-2.81c.8-.78.8-2.07 0-2.86zM5.41 20L4 18.59l7.72-7.72 1.47 1.35L5.41 20z\"/>\n",
              "  </svg>\n",
              "      </button>\n",
              "      \n",
              "  <style>\n",
              "    .colab-df-container {\n",
              "      display:flex;\n",
              "      flex-wrap:wrap;\n",
              "      gap: 12px;\n",
              "    }\n",
              "\n",
              "    .colab-df-convert {\n",
              "      background-color: #E8F0FE;\n",
              "      border: none;\n",
              "      border-radius: 50%;\n",
              "      cursor: pointer;\n",
              "      display: none;\n",
              "      fill: #1967D2;\n",
              "      height: 32px;\n",
              "      padding: 0 0 0 0;\n",
              "      width: 32px;\n",
              "    }\n",
              "\n",
              "    .colab-df-convert:hover {\n",
              "      background-color: #E2EBFA;\n",
              "      box-shadow: 0px 1px 2px rgba(60, 64, 67, 0.3), 0px 1px 3px 1px rgba(60, 64, 67, 0.15);\n",
              "      fill: #174EA6;\n",
              "    }\n",
              "\n",
              "    [theme=dark] .colab-df-convert {\n",
              "      background-color: #3B4455;\n",
              "      fill: #D2E3FC;\n",
              "    }\n",
              "\n",
              "    [theme=dark] .colab-df-convert:hover {\n",
              "      background-color: #434B5C;\n",
              "      box-shadow: 0px 1px 3px 1px rgba(0, 0, 0, 0.15);\n",
              "      filter: drop-shadow(0px 1px 2px rgba(0, 0, 0, 0.3));\n",
              "      fill: #FFFFFF;\n",
              "    }\n",
              "  </style>\n",
              "\n",
              "      <script>\n",
              "        const buttonEl =\n",
              "          document.querySelector('#df-0e1f56ec-e194-472e-b69f-0ff3b25acc3f button.colab-df-convert');\n",
              "        buttonEl.style.display =\n",
              "          google.colab.kernel.accessAllowed ? 'block' : 'none';\n",
              "\n",
              "        async function convertToInteractive(key) {\n",
              "          const element = document.querySelector('#df-0e1f56ec-e194-472e-b69f-0ff3b25acc3f');\n",
              "          const dataTable =\n",
              "            await google.colab.kernel.invokeFunction('convertToInteractive',\n",
              "                                                     [key], {});\n",
              "          if (!dataTable) return;\n",
              "\n",
              "          const docLinkHtml = 'Like what you see? Visit the ' +\n",
              "            '<a target=\"_blank\" href=https://colab.research.google.com/notebooks/data_table.ipynb>data table notebook</a>'\n",
              "            + ' to learn more about interactive tables.';\n",
              "          element.innerHTML = '';\n",
              "          dataTable['output_type'] = 'display_data';\n",
              "          await google.colab.output.renderOutput(dataTable, element);\n",
              "          const docLink = document.createElement('div');\n",
              "          docLink.innerHTML = docLinkHtml;\n",
              "          element.appendChild(docLink);\n",
              "        }\n",
              "      </script>\n",
              "    </div>\n",
              "  </div>\n",
              "  "
            ],
            "text/plain": [
              "   Plant Size  Plant Color  Leaf Thickness  label label_text\n",
              "0          22           70              65      1    Kozbara\n",
              "1          34           61              71      1    Kozbara\n",
              "2          48           41              65      1    Kozbara\n",
              "3          73           69               6      0   Ba2dones\n",
              "4          14           16              62      1    Kozbara"
            ]
          },
          "metadata": {},
          "execution_count": 258
        }
      ]
    },
    {
      "cell_type": "markdown",
      "source": [
        "Notice that <i>label</i> and <i>label_text</i> are both the same thing, however since ML algorithms are mathematical models that can only work with numbers we will discard the column <i>label_text</i> after displaying the graphs."
      ],
      "metadata": {
        "id": "SPMhB6LZFao1"
      }
    },
    {
      "cell_type": "code",
      "source": [
        "test.head() # displays the first 5 rows of test data"
      ],
      "metadata": {
        "id": "5EOqf1INjWmn",
        "colab": {
          "base_uri": "https://localhost:8080/",
          "height": 206
        },
        "outputId": "921ad5f2-100d-4942-c177-53ff5c4ec267"
      },
      "execution_count": 259,
      "outputs": [
        {
          "output_type": "execute_result",
          "data": {
            "text/html": [
              "\n",
              "  <div id=\"df-2a5c2a0d-f5dc-449f-85cd-10b0119648a6\">\n",
              "    <div class=\"colab-df-container\">\n",
              "      <div>\n",
              "<style scoped>\n",
              "    .dataframe tbody tr th:only-of-type {\n",
              "        vertical-align: middle;\n",
              "    }\n",
              "\n",
              "    .dataframe tbody tr th {\n",
              "        vertical-align: top;\n",
              "    }\n",
              "\n",
              "    .dataframe thead th {\n",
              "        text-align: right;\n",
              "    }\n",
              "</style>\n",
              "<table border=\"1\" class=\"dataframe\">\n",
              "  <thead>\n",
              "    <tr style=\"text-align: right;\">\n",
              "      <th></th>\n",
              "      <th>Plant Size</th>\n",
              "      <th>Plant Color</th>\n",
              "      <th>Leaf Thickness</th>\n",
              "    </tr>\n",
              "  </thead>\n",
              "  <tbody>\n",
              "    <tr>\n",
              "      <th>0</th>\n",
              "      <td>42</td>\n",
              "      <td>51</td>\n",
              "      <td>97</td>\n",
              "    </tr>\n",
              "    <tr>\n",
              "      <th>1</th>\n",
              "      <td>88</td>\n",
              "      <td>62</td>\n",
              "      <td>7</td>\n",
              "    </tr>\n",
              "    <tr>\n",
              "      <th>2</th>\n",
              "      <td>85</td>\n",
              "      <td>94</td>\n",
              "      <td>14</td>\n",
              "    </tr>\n",
              "    <tr>\n",
              "      <th>3</th>\n",
              "      <td>95</td>\n",
              "      <td>88</td>\n",
              "      <td>7</td>\n",
              "    </tr>\n",
              "    <tr>\n",
              "      <th>4</th>\n",
              "      <td>46</td>\n",
              "      <td>17</td>\n",
              "      <td>84</td>\n",
              "    </tr>\n",
              "  </tbody>\n",
              "</table>\n",
              "</div>\n",
              "      <button class=\"colab-df-convert\" onclick=\"convertToInteractive('df-2a5c2a0d-f5dc-449f-85cd-10b0119648a6')\"\n",
              "              title=\"Convert this dataframe to an interactive table.\"\n",
              "              style=\"display:none;\">\n",
              "        \n",
              "  <svg xmlns=\"http://www.w3.org/2000/svg\" height=\"24px\"viewBox=\"0 0 24 24\"\n",
              "       width=\"24px\">\n",
              "    <path d=\"M0 0h24v24H0V0z\" fill=\"none\"/>\n",
              "    <path d=\"M18.56 5.44l.94 2.06.94-2.06 2.06-.94-2.06-.94-.94-2.06-.94 2.06-2.06.94zm-11 1L8.5 8.5l.94-2.06 2.06-.94-2.06-.94L8.5 2.5l-.94 2.06-2.06.94zm10 10l.94 2.06.94-2.06 2.06-.94-2.06-.94-.94-2.06-.94 2.06-2.06.94z\"/><path d=\"M17.41 7.96l-1.37-1.37c-.4-.4-.92-.59-1.43-.59-.52 0-1.04.2-1.43.59L10.3 9.45l-7.72 7.72c-.78.78-.78 2.05 0 2.83L4 21.41c.39.39.9.59 1.41.59.51 0 1.02-.2 1.41-.59l7.78-7.78 2.81-2.81c.8-.78.8-2.07 0-2.86zM5.41 20L4 18.59l7.72-7.72 1.47 1.35L5.41 20z\"/>\n",
              "  </svg>\n",
              "      </button>\n",
              "      \n",
              "  <style>\n",
              "    .colab-df-container {\n",
              "      display:flex;\n",
              "      flex-wrap:wrap;\n",
              "      gap: 12px;\n",
              "    }\n",
              "\n",
              "    .colab-df-convert {\n",
              "      background-color: #E8F0FE;\n",
              "      border: none;\n",
              "      border-radius: 50%;\n",
              "      cursor: pointer;\n",
              "      display: none;\n",
              "      fill: #1967D2;\n",
              "      height: 32px;\n",
              "      padding: 0 0 0 0;\n",
              "      width: 32px;\n",
              "    }\n",
              "\n",
              "    .colab-df-convert:hover {\n",
              "      background-color: #E2EBFA;\n",
              "      box-shadow: 0px 1px 2px rgba(60, 64, 67, 0.3), 0px 1px 3px 1px rgba(60, 64, 67, 0.15);\n",
              "      fill: #174EA6;\n",
              "    }\n",
              "\n",
              "    [theme=dark] .colab-df-convert {\n",
              "      background-color: #3B4455;\n",
              "      fill: #D2E3FC;\n",
              "    }\n",
              "\n",
              "    [theme=dark] .colab-df-convert:hover {\n",
              "      background-color: #434B5C;\n",
              "      box-shadow: 0px 1px 3px 1px rgba(0, 0, 0, 0.15);\n",
              "      filter: drop-shadow(0px 1px 2px rgba(0, 0, 0, 0.3));\n",
              "      fill: #FFFFFF;\n",
              "    }\n",
              "  </style>\n",
              "\n",
              "      <script>\n",
              "        const buttonEl =\n",
              "          document.querySelector('#df-2a5c2a0d-f5dc-449f-85cd-10b0119648a6 button.colab-df-convert');\n",
              "        buttonEl.style.display =\n",
              "          google.colab.kernel.accessAllowed ? 'block' : 'none';\n",
              "\n",
              "        async function convertToInteractive(key) {\n",
              "          const element = document.querySelector('#df-2a5c2a0d-f5dc-449f-85cd-10b0119648a6');\n",
              "          const dataTable =\n",
              "            await google.colab.kernel.invokeFunction('convertToInteractive',\n",
              "                                                     [key], {});\n",
              "          if (!dataTable) return;\n",
              "\n",
              "          const docLinkHtml = 'Like what you see? Visit the ' +\n",
              "            '<a target=\"_blank\" href=https://colab.research.google.com/notebooks/data_table.ipynb>data table notebook</a>'\n",
              "            + ' to learn more about interactive tables.';\n",
              "          element.innerHTML = '';\n",
              "          dataTable['output_type'] = 'display_data';\n",
              "          await google.colab.output.renderOutput(dataTable, element);\n",
              "          const docLink = document.createElement('div');\n",
              "          docLink.innerHTML = docLinkHtml;\n",
              "          element.appendChild(docLink);\n",
              "        }\n",
              "      </script>\n",
              "    </div>\n",
              "  </div>\n",
              "  "
            ],
            "text/plain": [
              "   Plant Size  Plant Color  Leaf Thickness\n",
              "0          42           51              97\n",
              "1          88           62               7\n",
              "2          85           94              14\n",
              "3          95           88               7\n",
              "4          46           17              84"
            ]
          },
          "metadata": {},
          "execution_count": 259
        }
      ]
    },
    {
      "cell_type": "markdown",
      "source": [
        "Also notice that the test data doesn't contain the label columns because that'll be our job to predict their labels"
      ],
      "metadata": {
        "id": "1oQpk6PTjbYF"
      }
    },
    {
      "cell_type": "code",
      "metadata": {
        "id": "unm1bWgb65D1",
        "colab": {
          "base_uri": "https://localhost:8080/",
          "height": 403
        },
        "outputId": "31a092c5-b70a-4792-fccb-6b1a80a00cd1"
      },
      "source": [
        "fig, ax = plt.subplots(figsize=(12,6))\n",
        "ax.set_title('Training Data',{'fontsize':16})\n",
        "sns.scatterplot(data= data, x= 'Plant Size', y= 'Plant Color', hue= 'label_text', size='Leaf Thickness', ax=ax)\n",
        "plt.show()"
      ],
      "execution_count": 260,
      "outputs": [
        {
          "output_type": "display_data",
          "data": {
            "image/png": "[encoded data removed]",
            "text/plain": [
              "<Figure size 864x432 with 1 Axes>"
            ]
          },
          "metadata": {}
        }
      ]
    },
    {
      "cell_type": "markdown",
      "source": [
        "This is the <b>Training Set</b>\n",
        "<font size=2, color=gray><i>(recall that the training set is the data that we already know it's type(kozbara/ba2dones))</i></font> and we'll be using it to predict the type of the unknown data"
      ],
      "metadata": {
        "id": "aTuCn29xffdX"
      }
    },
    {
      "cell_type": "code",
      "metadata": {
        "id": "vWvc4kDN7bit",
        "colab": {
          "base_uri": "https://localhost:8080/",
          "height": 403
        },
        "outputId": "e778b0a5-dccc-4971-b44c-f1730abd6032"
      },
      "source": [
        "fig, ax = plt.subplots(figsize=(12,6))\n",
        "ax.set_title('Test Data',{'fontsize':16})\n",
        "sns.scatterplot(data= test, x= 'Plant Size', y= 'Plant Color', size='Leaf Thickness')\n",
        "plt.show()"
      ],
      "execution_count": 261,
      "outputs": [
        {
          "output_type": "display_data",
          "data": {
            "image/png": "[encoded data removed]",
            "text/plain": [
              "<Figure size 864x432 with 1 Axes>"
            ]
          },
          "metadata": {}
        }
      ]
    },
    {
      "cell_type": "markdown",
      "source": [
        "This is the <b>Test Set</b>, a test set is data that we don't know it's type yet, we'll use our KNN classifier to predict their type, this is why they're all currently having the same color (no type)"
      ],
      "metadata": {
        "id": "GgNPEBlfhyx0"
      }
    },
    {
      "cell_type": "code",
      "source": [
        "data.drop(['label_text'], axis=1, inplace= True)\n"
      ],
      "metadata": {
        "id": "PzRc2qWiaiez"
      },
      "execution_count": 262,
      "outputs": []
    },
    {
      "cell_type": "markdown",
      "source": [
        "Finally before starting our implementation we're going to convert our data from a <i>Pandas DataFrame$^1$</i> to a <i>numpy array$^2$</i>\n",
        "<br><br>\n",
        "<font size=3, color='gray'>\n",
        "<b>$^1$ Pandas</b> dataframes are the data structures that contains the matrix of the data that we use, we usually use them in the process before the actual algorithm where we display the data or make graphs from it since <i>pandas</i> is more suitble for it\n",
        "</font>\n",
        "\n",
        "<font size=3, color='gray'>\n",
        "<b>$^2$ Numpy</b> arrays however are more optimized for mathematical/matrix operations so they are preferred for use during the implementation of the algorithm\n",
        "</font>"
      ],
      "metadata": {
        "id": "bVbGTyUFwV8K"
      }
    },
    {
      "cell_type": "code",
      "source": [
        "# Use the variables below when running your implementation\n",
        "data_array = np.array(data)\n",
        "test_array = np.array(test)\n",
        "print(data_array)\n",
        "print(test_array)"
      ],
      "metadata": {
        "id": "kzWwi6lf0bK1",
        "colab": {
          "base_uri": "https://localhost:8080/"
        },
        "outputId": "9a212672-995e-41a7-ac0b-35d0bd1f8f94"
      },
      "execution_count": 263,
      "outputs": [
        {
          "output_type": "stream",
          "name": "stdout",
          "text": [
            "[[ 22  70  65   1]\n",
            " [ 34  61  71   1]\n",
            " [ 48  41  65   1]\n",
            " [ 73  69   6   0]\n",
            " [ 14  16  62   1]\n",
            " [ 77  81  30   0]\n",
            " [ 56  55  21   0]\n",
            " [ 96  91  27   0]\n",
            " [ 92  50  19   0]\n",
            " [ 87  69  29   0]\n",
            " [ 62  64   3   0]\n",
            " [ 72  89   1   0]\n",
            " [ 18  50  75   1]\n",
            " [ 42  87  33   0]\n",
            " [ 56  95  25   0]\n",
            " [ 86  47  20   0]\n",
            " [ 73  85  35   0]\n",
            " [ 90  63   8   0]\n",
            " [  3  44  85   1]\n",
            " [ 51  28  77   1]\n",
            " [ 78  91  21   0]\n",
            " [ 90  60  22   0]\n",
            " [ 40  47  73   1]\n",
            " [ 32  30  65   1]\n",
            " [ 52  47  50   1]\n",
            " [ 60  13  74   1]\n",
            " [ 47  46  21   0]\n",
            " [ 77  82  35   0]\n",
            " [ 44  97  33   0]\n",
            " [ 20  27  69   1]\n",
            " [ 75  97  18   0]\n",
            " [ 22  33  73   1]\n",
            " [ 40  37  49   1]\n",
            " [ 61  75  18   0]\n",
            " [ 72  87   3   0]\n",
            " [ 42  10  75   1]\n",
            " [ 46  89  40   0]\n",
            " [ 56  53  17   0]\n",
            " [ 46  95  12   0]\n",
            " [ 92  77   2   0]\n",
            " [ 77  79  40   0]\n",
            " [ 45  43  66   1]\n",
            " [ 48  74   2   0]\n",
            " [ 61  44   2   0]\n",
            " [ 53  50  29   0]\n",
            " [ 18   1  99   1]\n",
            " [ 73  46  22   0]\n",
            " [ 60  57   1   0]\n",
            " [ 62  84  21   0]\n",
            " [ 23  19  71   1]\n",
            " [ 79  87  38   0]\n",
            " [ 30  24  95   1]\n",
            " [ 62  52  34   0]\n",
            " [ 52  52  33   0]\n",
            " [ 44 100  29   0]\n",
            " [ 62  65  23   0]\n",
            " [ 94  81  23   0]\n",
            " [ 40   7  95   1]\n",
            " [ 22  65  58   1]\n",
            " [ 49  64   1   0]\n",
            " [  6  18  99   1]\n",
            " [ 70  70  23   0]\n",
            " [ 29  61  62   1]\n",
            " [ 48  84  38   0]\n",
            " [ 45   9  64   1]\n",
            " [ 37  57  51   1]\n",
            " [ 15  25  46   1]\n",
            " [ 15  12  45   1]\n",
            " [ 83  61   6   0]\n",
            " [ 64  80  21   0]\n",
            " [ 48  62  67   1]\n",
            " [ 33  23  82   1]\n",
            " [ 77  61   3   0]\n",
            " [ 84  55  23   0]\n",
            " [ 29   2  48   1]\n",
            " [ 48  65  65   1]\n",
            " [ 58  63   5   0]\n",
            " [ 97  78  24   0]\n",
            " [ 91  67  38   0]\n",
            " [ 71  51  20   0]\n",
            " [  2  38  83   1]\n",
            " [ 57  67  36   0]\n",
            " [ 75  72  37   0]\n",
            " [ 68  43  33   0]\n",
            " [ 23   8  65   1]\n",
            " [ 77  73  11   0]\n",
            " [ 60  44  18   0]\n",
            " [ 89  75  33   0]\n",
            " [ 66  85  36   0]\n",
            " [ 17  47  58   1]\n",
            " [ 68  78  40   0]\n",
            " [ 11  24  54   1]\n",
            " [100  76  28   0]\n",
            " [ 85  57  36   0]\n",
            " [ 10  50  95   1]\n",
            " [ 89  82   4   0]\n",
            " [ 33  56  70   1]\n",
            " [ 51  45  30   0]\n",
            " [ 57  47  92   1]\n",
            " [ 97  79  29   0]\n",
            " [ 50  14  71   1]\n",
            " [ 78  65  17   0]\n",
            " [ 72  52  13   0]\n",
            " [ 82  92   2   0]\n",
            " [  4  59  50   1]\n",
            " [ 57  98  27   0]\n",
            " [ 64  50  10   0]\n",
            " [ 38  31  82   1]\n",
            " [ 21  43  59   1]\n",
            " [ 49  65  27   0]\n",
            " [ 82  62   4   0]\n",
            " [ 99  56   2   0]\n",
            " [ 32  37  58   1]\n",
            " [ 62  86  28   0]\n",
            " [ 17  50  55   1]\n",
            " [ 13  49  48   1]\n",
            " [ 54  22  61   1]\n",
            " [ 44   7  62   1]\n",
            " [ 69 100  33   0]\n",
            " [ 78  72  35   0]\n",
            " [ 87  90  23   0]\n",
            " [ 15  49  88   1]\n",
            " [ 48  57  38   0]\n",
            " [ 10  42  67   1]\n",
            " [ 91  88  40   0]\n",
            " [  3  67  67   1]\n",
            " [ 59  12  48   1]\n",
            " [ 41  68  98   1]\n",
            " [ 77  94  27   0]\n",
            " [ 69  68   9   0]\n",
            " [ 71  43  25   0]\n",
            " [ 44  66  79   1]\n",
            " [ 66 100   1   0]\n",
            " [  7  67  68   1]\n",
            " [ 96  44  16   0]\n",
            " [ 44  98  16   0]\n",
            " [ 50  47  21   0]\n",
            " [ 33  68  59   1]\n",
            " [ 32  32  70   1]\n",
            " [ 56  81  14   0]\n",
            " [ 56  41  99   1]\n",
            " [ 54  57  74   1]\n",
            " [ 55  63   4   0]\n",
            " [ 51  74  14   0]\n",
            " [ 88  92   4   0]\n",
            " [ 12  21  62   1]\n",
            " [ 63  72   6   0]\n",
            " [ 24  21  76   1]\n",
            " [ 27  50  84   1]\n",
            " [ 89  50  21   0]\n",
            " [ 24  15  75   1]\n",
            " [ 55  32  88   1]\n",
            " [  6  44  64   1]\n",
            " [  9  28  63   1]\n",
            " [ 16  60  83   1]\n",
            " [ 29  45  66   1]\n",
            " [ 45  86  19   0]\n",
            " [ 93  90  30   0]\n",
            " [ 21  44  70   1]\n",
            " [ 35  63  84   1]\n",
            " [ 52  12  52   1]\n",
            " [ 98  66  36   0]\n",
            " [ 58  27  97   1]\n",
            " [ 88  72   9   0]\n",
            " [ 48  97  28   0]\n",
            " [ 16  16  49   1]\n",
            " [ 19  43  97   1]\n",
            " [ 32  19 100   1]\n",
            " [ 46  11  96   1]\n",
            " [ 61  83  40   0]\n",
            " [ 46  84  12   0]\n",
            " [ 57 100  23   0]\n",
            " [ 42  53   8   0]\n",
            " [ 47  27  86   1]\n",
            " [ 50  60  56   1]\n",
            " [ 59   4  74   1]\n",
            " [  6  28  62   1]\n",
            " [ 40   7  59   1]\n",
            " [ 53  48  62   1]\n",
            " [ 31  58 100   1]\n",
            " [ 41  70  13   0]\n",
            " [ 19  37  66   1]\n",
            " [ 20  18  60   1]\n",
            " [ 52  63  48   1]\n",
            " [ 58  56  48   1]\n",
            " [ 46  45   4   0]\n",
            " [ 40  23  68   1]\n",
            " [ 73  97  24   0]\n",
            " [ 12  12  91   1]\n",
            " [ 47  70  11   0]\n",
            " [ 65  75  32   0]\n",
            " [ 70  81   9   0]\n",
            " [ 58  28  70   1]\n",
            " [ 42  29  92   1]\n",
            " [ 44  80  22   0]\n",
            " [  5  67  52   1]\n",
            " [ 84  85  26   0]\n",
            " [ 90  50  13   0]\n",
            " [ 77  85  10   0]\n",
            " [ 48  45  63   1]]\n",
            "[[ 42  51  97]\n",
            " [ 88  62   7]\n",
            " [ 85  94  14]\n",
            " [ 95  88   7]\n",
            " [ 46  17  84]\n",
            " [ 59  64  75]\n",
            " [ 47  78   6]\n",
            " [ 42  77  38]\n",
            " [ 56  82  36]\n",
            " [ 59  16  61]\n",
            " [  7  49  78]\n",
            " [ 70  62  54]\n",
            " [  8  59  69]\n",
            " [ 60  36  97]\n",
            " [ 39  19  62]\n",
            " [ 51  72  22]\n",
            " [ 80  95  38]\n",
            " [ 23   4  52]\n",
            " [ 33  16 100]\n",
            " [ 36   8  62]\n",
            " [ 30  98  25]\n",
            " [ 46  86  17]\n",
            " [ 85  75  14]\n",
            " [ 33   1  81]\n",
            " [ 16  11  72]\n",
            " [ 36  16  46]\n",
            " [ 66  59   9]\n",
            " [ 38  17  65]\n",
            " [ 58  97  28]\n",
            " [ 61  59  26]\n",
            " [ 48  90  30]\n",
            " [ 77  59  39]\n",
            " [ 86  66  25]\n",
            " [ 54  39  59]\n",
            " [ 13  69  55]\n",
            " [ 71  44   7]\n",
            " [ 74  95   6]\n",
            " [ 51  62  36]\n",
            " [ 98  94  36]\n",
            " [  6  14  67]\n",
            " [ 52  78  22]\n",
            " [ 24  20  56]\n",
            " [ 20  12  70]\n",
            " [ 97  93  23]\n",
            " [ 23  29  85]\n",
            " [ 66  94  38]\n",
            " [ 52  93   9]\n",
            " [ 18  50  93]\n",
            " [ 60  45  87]\n",
            " [ 15  39  78]]\n"
          ]
        }
      ]
    },
    {
      "cell_type": "markdown",
      "source": [
        "---"
      ],
      "metadata": {
        "id": "K50_EwxhlHfm"
      }
    },
    {
      "cell_type": "markdown",
      "metadata": {
        "id": "9b4hw4Mopv8r"
      },
      "source": [
        "<h1>KNN Algorithm</h1>\n",
        "<h2>1- Load Data ✅</h2> \n",
        "<h2>2- For each unkown point:</h2>\n",
        "\n",
        "1.   Calculate distance between <em>**unknown point**</em> and <em>known points</em>\n",
        "2.   Sort Distances in ascending order\n",
        "3. Select top *K* points\n",
        "4. Check majority of labels of the top *K* points\n",
        "5. Assign Label to the unknown point \n",
        "\n",
        "Feeling Lost?<br>\n",
        "Don't worry, Start implementing the required functions below and try to figure out how each of them fits in the above algorithm.\n",
        "\n",
        "<br>\n",
        "and if you get stuck you can always ask us for <i><b>support</b></i> 😉\n",
        "<br><br>\n",
        "<h2>⭐⭐Challenge⭐⭐</h2>\n",
        "Implement the algorithm using a total of 2 loops across all functions\n"
      ]
    },
    {
      "cell_type": "markdown",
      "metadata": {
        "id": "7ujS-oCv8PRM"
      },
      "source": [
        "#Functions to implement\n",
        "<br>\n",
        "Note: All the functions below take arguments, however it's left for you to figure out which arguments that each take"
      ]
    },
    {
      "cell_type": "markdown",
      "metadata": {
        "id": "va9WI63QnslR"
      },
      "source": [
        "##Eucledian Distance\n",
        "![image.png](data:image/png;base64,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)"
      ]
    },
    {
      "cell_type": "code",
      "metadata": {
        "id": "rJ0HnsCunWtY"
      },
      "source": [
        "\"\"\"\n",
        "  This function should return the distance between two data rows\n",
        "  \n",
        "\"\"\"\n",
        "def eucledian_distance(pt1,pt2):\n",
        "    dis=np.sqrt(np.sum((pt1-pt2)**2))\n",
        "    return dis \n",
        "#a=np.array([1,2,3])\n",
        "#b=np.array([4,5,6])\n",
        "#print(eucledian_distance(a,b))  "
      ],
      "execution_count": 264,
      "outputs": []
    },
    {
      "cell_type": "code",
      "metadata": {
        "id": "1QiagRf8nQP5"
      },
      "source": [
        "from numpy.core.fromnumeric import var\n",
        "\"\"\" \n",
        "  This fucntion should calculate distances between 1 unknown row and all the known data\n",
        "\"\"\"\n",
        "def calculate_distances(data_arr,test):\n",
        "    distances_arr=[]\n",
        "    labels=[]\n",
        "    for i in data_arr:\n",
        "      distances_arr.append(eucledian_distance(i[[0,1,2]],test))\n",
        "      labels.append(i[3])\n",
        "    return distances_arr,labels\n",
        "\n",
        "#print(label_col)\n",
        "#for i in test_array:\n",
        " # a,m=calculate_distances(data_array,i)\n",
        "  #a=np.array(a)\n",
        "  #m=np.array(m)\n",
        "  #c=a.argsort()\n",
        "  #c=np.array(c)\n",
        "  #a=a[c]\n",
        "  #d=[]\n",
        "  #d=m[[c]]\n",
        "  #d=d[:15]\n",
        "  #print(d)\n",
        "\n"
      ],
      "execution_count": 265,
      "outputs": []
    },
    {
      "cell_type": "markdown",
      "metadata": {
        "id": "5IY5P6Hixz9f"
      },
      "source": [
        "##Making Predictions"
      ]
    },
    {
      "cell_type": "code",
      "metadata": {
        "id": "W2WOIfuxm7MO"
      },
      "source": [
        "\"\"\"\n",
        "  This function should take the closest K points and return the label of the unknown point\n",
        "\"\"\"\n",
        "from collections import Counter\n",
        "def make_prediction(k,distances_arr,labels):\n",
        "    indexes=distances_arr.argsort()\n",
        "    labels=labels[[indexes]]\n",
        "    labels=labels[:k]\n",
        "    commen=Counter(labels).most_common(1)\n",
        "    return commen[0][0]\n",
        "\n"
      ],
      "execution_count": 266,
      "outputs": []
    },
    {
      "cell_type": "markdown",
      "metadata": {
        "id": "o3-lE-jtyBbG"
      },
      "source": [
        "##Main Function"
      ]
    },
    {
      "cell_type": "code",
      "metadata": {
        "id": "fUOUUz2LnHvC"
      },
      "source": [
        "\"\"\"\n",
        "  This function should be the starting point of the algorithm\n",
        "  all other function calls should be done inside it (or inside other functions)\n",
        "  and it returns predictions of all the unknown points\n",
        "\"\"\"\n",
        "def run_KNN():\n",
        "  predictions=[]\n",
        "  k=int(np.sqrt(len(data_array)))\n",
        "  if k%2==0:\n",
        "    k+=1\n",
        "  for i in test_array:\n",
        "    distances_arr,labels=calculate_distances(data_array,i)\n",
        "    distances_arr=np.array(distances_arr)\n",
        "    labels=np.array(labels)\n",
        "    commen=make_prediction(k,distances_arr,labels)\n",
        "    predictions.append(commen)\n",
        "  return predictions\n",
        " # predictions.append(make_prediction(np.sqrt(length),arr))\n",
        "  #print()\n",
        "  #return predictions\n",
        "  "
      ],
      "execution_count": 267,
      "outputs": []
    },
    {
      "cell_type": "code",
      "source": [
        ""
      ],
      "metadata": {
        "id": "DObYyk-lAGm3"
      },
      "execution_count": 267,
      "outputs": []
    },
    {
      "cell_type": "markdown",
      "source": [
        "# Your Results"
      ],
      "metadata": {
        "id": "WCgbwN2PlSOk"
      }
    },
    {
      "cell_type": "code",
      "source": [
        "# After Correctly implementing the KNN algorithm uncomment the below line\n",
        "\n",
        "predictions = run_KNN() # fill the parameters in the function call \n",
        "assert len(predictions) == len(test) , \"There are missing or extra predictions, Recheck your implementation\""
      ],
      "metadata": {
        "id": "llaBZh6nlVK1",
        "colab": {
          "base_uri": "https://localhost:8080/"
        },
        "outputId": "43d7a171-c226-4ae2-8574-0b266f49ceac"
      },
      "execution_count": 268,
      "outputs": [
        {
          "output_type": "stream",
          "name": "stderr",
          "text": [
            "/usr/local/lib/python3.7/dist-packages/ipykernel_launcher.py:7: FutureWarning: Using a non-tuple sequence for multidimensional indexing is deprecated; use `arr[tuple(seq)]` instead of `arr[seq]`. In the future this will be interpreted as an array index, `arr[np.array(seq)]`, which will result either in an error or a different result.\n",
            "  import sys\n"
          ]
        }
      ]
    },
    {
      "cell_type": "code",
      "source": [
        "tmp = test.copy()\n",
        "tmp['label'] = predictions\n",
        "tmp['label_text'] = tmp['label']\n",
        "tmp['label_text'][tmp['label'] == 1] = 'Kozbara'\n",
        "tmp['label_text'][tmp['label'] == 0] = 'Ba2dones'\n",
        "\n",
        "fig, ax = plt.subplots(figsize=(12,6))\n",
        "ax.set_title('Training Data',{'fontsize':16})\n",
        "sns.scatterplot(data= tmp, x= 'Plant Size', y= 'Plant Color', hue= 'label_text', size='Leaf Thickness', ax=ax)\n",
        "plt.show()"
      ],
      "metadata": {
        "id": "PTqJMNNml13A",
        "colab": {
          "base_uri": "https://localhost:8080/",
          "height": 490
        },
        "outputId": "0c43ba88-0850-400e-9b0a-f75184a0cd50"
      },
      "execution_count": 269,
      "outputs": [
        {
          "output_type": "stream",
          "name": "stderr",
          "text": [
            "/usr/local/lib/python3.7/dist-packages/ipykernel_launcher.py:5: SettingWithCopyWarning: \n",
            "A value is trying to be set on a copy of a slice from a DataFrame\n",
            "\n",
            "See the caveats in the documentation: https://pandas.pydata.org/pandas-docs/stable/user_guide/indexing.html#returning-a-view-versus-a-copy\n",
            "  \"\"\"\n"
          ]
        },
        {
          "output_type": "display_data",
          "data": {
            "image/png": "[encoded data removed]",
            "text/plain": [
              "<Figure size 864x432 with 1 Axes>"
            ]
          },
          "metadata": {}
        }
      ]
    },
    {
      "cell_type": "code",
      "source": [
        "def Evaluate(y_true, y_pred):\n",
        "    n_correct = 0\n",
        "    for i in range(len(y_true)):\n",
        "        if y_true[i] == y_pred[i]:\n",
        "            n_correct += 1\n",
        "\n",
        "    acc = n_correct/len(y_true)\n",
        "    print(acc)\n"
      ],
      "metadata": {
        "id": "Si6vjZrdliuU"
      },
      "execution_count": 270,
      "outputs": []
    },
    {
      "cell_type": "markdown",
      "source": [
        "These are your predictions on the test set<br>\n",
        "do you think your implementation did well?\n",
        "<br><br>\n",
        "Now try different values of K and see how that affects your predictions"
      ],
      "metadata": {
        "id": "lXlBH5uVl6NL"
      }
    },
    {
      "cell_type": "markdown",
      "source": [
        "# Extra Knowledge"
      ],
      "metadata": {
        "id": "Bm877RvQmggi"
      }
    },
    {
      "cell_type": "markdown",
      "source": [
        "One of the problems of KNN is it's longer runtimes for larger datasets.<br><br>\n",
        "<font size=3>Recall that for each unknown point the KNN algorithm has to pass on all training set calculating distance between the unknown point and each training set data point</font>\n",
        "<br><br>\n",
        "For small Datasets (such as the one in this task) this is not a big deal, however for larger datasets this can be a serious problem\n",
        "<br><br>\n",
        "In the following cells we verify this by trying to run our implementation on our dataset and on a larger dataset then measuring the runtime of both\n"
      ],
      "metadata": {
        "id": "khRcK-zdmi4c"
      }
    },
    {
      "cell_type": "code",
      "source": [
        "# Our Dataset\n",
        "#data_array, test_array, 5\n",
        "start = timeit.default_timer()\n",
        "predictions = run_KNN(data_array, test_array, 5) # fill in the function call\n",
        "stop = timeit.default_timer()\n",
        "print('runtime: ', stop - start)  "
      ],
      "metadata": {
        "id": "fEfdZa26miV-",
        "colab": {
          "base_uri": "https://localhost:8080/",
          "height": 234
        },
        "outputId": "17127fe8-d48a-4eb4-a44a-5f2bb8a073fc"
      },
      "execution_count": 271,
      "outputs": [
        {
          "output_type": "error",
          "ename": "TypeError",
          "evalue": "ignored",
          "traceback": [
            "\u001b[0;31m---------------------------------------------------------------------------\u001b[0m",
            "\u001b[0;31mTypeError\u001b[0m                                 Traceback (most recent call last)",
            "\u001b[0;32m<ipython-input-271-9533fffec325>\u001b[0m in \u001b[0;36m<module>\u001b[0;34m()\u001b[0m\n\u001b[1;32m      2\u001b[0m \u001b[0;31m#data_array, test_array, 5\u001b[0m\u001b[0;34m\u001b[0m\u001b[0;34m\u001b[0m\u001b[0;34m\u001b[0m\u001b[0m\n\u001b[1;32m      3\u001b[0m \u001b[0mstart\u001b[0m \u001b[0;34m=\u001b[0m \u001b[0mtimeit\u001b[0m\u001b[0;34m.\u001b[0m\u001b[0mdefault_timer\u001b[0m\u001b[0;34m(\u001b[0m\u001b[0;34m)\u001b[0m\u001b[0;34m\u001b[0m\u001b[0;34m\u001b[0m\u001b[0m\n\u001b[0;32m----> 4\u001b[0;31m \u001b[0mpredictions\u001b[0m \u001b[0;34m=\u001b[0m \u001b[0mrun_KNN\u001b[0m\u001b[0;34m(\u001b[0m\u001b[0mdata_array\u001b[0m\u001b[0;34m,\u001b[0m \u001b[0mtest_array\u001b[0m\u001b[0;34m,\u001b[0m \u001b[0;36m5\u001b[0m\u001b[0;34m)\u001b[0m \u001b[0;31m# fill in the function call\u001b[0m\u001b[0;34m\u001b[0m\u001b[0;34m\u001b[0m\u001b[0m\n\u001b[0m\u001b[1;32m      5\u001b[0m \u001b[0mstop\u001b[0m \u001b[0;34m=\u001b[0m \u001b[0mtimeit\u001b[0m\u001b[0;34m.\u001b[0m\u001b[0mdefault_timer\u001b[0m\u001b[0;34m(\u001b[0m\u001b[0;34m)\u001b[0m\u001b[0;34m\u001b[0m\u001b[0;34m\u001b[0m\u001b[0m\n\u001b[1;32m      6\u001b[0m \u001b[0mprint\u001b[0m\u001b[0;34m(\u001b[0m\u001b[0;34m'runtime: '\u001b[0m\u001b[0;34m,\u001b[0m \u001b[0mstop\u001b[0m \u001b[0;34m-\u001b[0m \u001b[0mstart\u001b[0m\u001b[0;34m)\u001b[0m\u001b[0;34m\u001b[0m\u001b[0;34m\u001b[0m\u001b[0m\n",
            "\u001b[0;31mTypeError\u001b[0m: run_KNN() takes 0 positional arguments but 3 were given"
          ]
        }
      ]
    },
    {
      "cell_type": "code",
      "source": [
        "# Some large dataset\n",
        "large_data_train = np.array(pd.read_csv('train_large.csv'))\n",
        "large_data_test = np.array(pd.read_csv('test_large.csv'))\n",
        "\n",
        "start = timeit.default_timer()\n",
        "predictions = run_KNN(large_data_train[:1500], large_data_test, 5) # fill in the function call\n",
        "stop = timeit.default_timer()\n",
        "print('runtime: ', stop - start)"
      ],
      "metadata": {
        "id": "TaOWy6Xi7xjm"
      },
      "execution_count": null,
      "outputs": []
    },
    {
      "cell_type": "markdown",
      "source": [
        "Note the difference in the runtime between our dataset and the other dataset although the difference in their size is not that large\n",
        "<br><br>\n",
        "Our dataset:<br>\n",
        "<p>&emsp; Train:<br>\n",
        "  &emsp;&emsp; • Rows : 200&emsp;• Columns : 3<br>\n",
        "  &emsp;Test:<br>\n",
        "  &emsp;&emsp;• Rows : 50&emsp;• Columns : 3</p>\n",
        "<br>\n",
        "<p>The other dataset:<br>\n",
        " &emsp;Train:<br>\n",
        " &emsp;&emsp;• Rows : 1500&emsp;• Columns : 3<br>\n",
        " &emsp;Test:<br>\n",
        "   &emsp;&emsp;• Rows : 1000&emsp;• Columns : 3</p>"
      ],
      "metadata": {
        "id": "OUv8EmW9oUwA"
      }
    },
    {
      "cell_type": "markdown",
      "source": [
        "#Wrapping Up\n",
        "• KNN is one of the simplest algorithms in ML, it relys on the idea that close points would usually be of the same type.\n",
        "<br><br>\n",
        "• By Implementing the KNN from scratch you've not only learned the inner details of the algorithm, you've also increased your experience in Python's <i>loops</i>, <i>functions</i> and <i>Libraries Built-In Functions</i>.\n",
        "<br><br>\n",
        "• You've Also learned that due to KNN's high runtime you should pay attention to the dataset size before deciding to use it\n",
        "<br><br><br>\n",
        "Finally we hope you enjoyed this week's task and look further to next ones.\n",
        "<br>\n",
        "\n",
        "---\n",
        "<center>\n",
        "<font size=4, face='helvetica'>ML Committee</font><br>\n",
        "<font size=5, color='#ffb71c'>S</font><font size=4, face='helvetica'>upport ASU </font></center>"
      ],
      "metadata": {
        "id": "XdnwtUwdoYWZ"
      }
    }
  ]
}